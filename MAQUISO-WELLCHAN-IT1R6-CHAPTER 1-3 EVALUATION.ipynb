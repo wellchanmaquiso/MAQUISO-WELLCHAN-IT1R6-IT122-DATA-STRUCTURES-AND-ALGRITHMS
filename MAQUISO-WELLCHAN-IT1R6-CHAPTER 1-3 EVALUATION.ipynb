{
 "cells": [
  {
   "cell_type": "code",
   "execution_count": 12,
   "id": "automated-single",
   "metadata": {},
   "outputs": [
    {
     "name": "stdout",
     "output_type": "stream",
     "text": [
      "Discuss your learnings on Chapter 1  time-frame 8:00 - 30:35. Minimum of 200 characters\n",
      "Chapter 1 learnings are the following:\n",
      " I learned something new that I learn how to characterized some data structure, it should be implement its interface correctly.\n",
      "Secondly, it should be time complexity, example, when you are going to output the program and it takes a lot of time to observe the results of it.\n",
      "in short, the execution time must be small as possible. And lastly, the space complexity, the memory usage must be small as possible.\n",
      "Also I learn the cases of which the output must be shown or the body of the program, which are the worst cases, average cases, and best cases.\n",
      "Why to learn Data Structure, and Algorithm? It is important to learn when we are going to learn programming, also to make a data structure.\n",
      "Also, it allows programmers to do some data management or when you are going to make a data in effiecient way.\n",
      "I learned that when we are going to solve some problems such as data search, processor speed, multiple request, data structure comes to save and solve your problems\n",
      "I learned that there some applications of data structure and algorithms, which is to search, sort, insert, update and delete. \n",
      "Also, I learn some many basic terminology.\n"
     ]
    }
   ],
   "source": [
    "print (\"Discuss your learnings on Chapter 1  time-frame 8:00 - 30:35. Minimum of 200 characters\")\n",
    "\n",
    "print (\"Chapter 1 learnings are the following:\")\n",
    "print(\" I learned something new that I learn how to characterized some data structure, it should be implement its interface correctly.\")\n",
    "print(\"Secondly, it should be time complexity, example, when you are going to output the program and it takes a lot of time to observe the results of it.\")\n",
    "print(\"in short, the execution time must be small as possible. And lastly, the space complexity, the memory usage must be small as possible.\")\n",
    "print(\"Also I learn the cases of which the output must be shown or the body of the program, which are the worst cases, average cases, and best cases.\")\n",
    "print(\"Why to learn Data Structure, and Algorithm? It is important to learn when we are going to learn programming, also to make a data structure.\")\n",
    "print(\"Also, it allows programmers to do some data management or when you are going to make a data in effiecient way.\")\n",
    "print(\"I learned that when we are going to solve some problems such as data search, processor speed, multiple request, data structure comes to save and solve your problems\")\n",
    "print(\"I learned that there some applications of data structure and algorithms, which is to search, sort, insert, update and delete. \")\n",
    "print(\"Also, I learn some many basic terminology.\")"
   ]
  },
  {
   "cell_type": "code",
   "execution_count": 17,
   "id": "thorough-engine",
   "metadata": {},
   "outputs": [
    {
     "name": "stdout",
     "output_type": "stream",
     "text": [
      "Discuss your learnings on Chapter 1  time-frame 35:00 - end. Minimum of 200 characters\n",
      "Chapter 1 learnings are the following:\n",
      "I learned that there are two different stages, before implementation, and after implementation. They are the following:\n",
      "A Priori Analysis, this one is a theoretical analysis of an algorithm meaning to investigate of problem's decision process method\n",
      " A Priori Analysis means to measure by all other factors like processor speed, which is a constant that has no effect on implementation.\n",
      "Lastly, the Posterior Analysis, it is an empirical analysis of an algorithm. Also it can be selected and implemented by programming language\n",
      "such as Python, C, C++, Java and etc. It can be executed on target computer machine. In this analysis, running time and space are required.\n",
      "I learned about the Algorithm Complexity.Namely, the time and space factor, which it can be measured by counting the number of key and to measured the\n",
      "the counting the maximum memory space. Also, I learned about the space complexity which are the fixed part and variable part. These are the parts that can be stored \n",
      "certain data  and variables and whose size are depends on the size of the problem.\n",
      "Lastly, I learned about the examples of the problems, there are three variables and one constant. I learn how to start and stop.\n"
     ]
    }
   ],
   "source": [
    "print (\"Discuss your learnings on Chapter 1  time-frame 35:00 - end. Minimum of 200 characters\")\n",
    "print (\"Chapter 1 learnings are the following:\")\n",
    "print(\"I learned that there are two different stages, before implementation, and after implementation. They are the following:\")\n",
    "print(\"A Priori Analysis, this one is a theoretical analysis of an algorithm meaning to investigate of problem's decision process method\")\n",
    "print(\" A Priori Analysis means to measure by all other factors like processor speed, which is a constant that has no effect on implementation.\")\n",
    "print(\"Lastly, the Posterior Analysis, it is an empirical analysis of an algorithm. Also it can be selected and implemented by programming language\")\n",
    "print(\"such as Python, C, C++, Java and etc. It can be executed on target computer machine. In this analysis, running time and space are required.\")\n",
    "print(\"I learned about the Algorithm Complexity.Namely, the time and space factor, which it can be measured by counting the number of key and to measured the\")\n",
    "print(\"the counting the maximum memory space. Also, I learned about the space complexity which are the fixed part and variable part. These are the parts that can be stored \")\n",
    "print(\"certain data  and variables and whose size are depends on the size of the problem.\")\n",
    "print(\"Lastly, I learned about the examples of the problems, there are three variables and one constant. I learn how to start and stop.\")"
   ]
  },
  {
   "cell_type": "code",
   "execution_count": 40,
   "id": "light-eagle",
   "metadata": {},
   "outputs": [
    {
     "name": "stdout",
     "output_type": "stream",
     "text": [
      "Discuss your learnings on Chapter 2  time-frame 5:00 - 9:00. Minimum of 200 characters\n",
      "Chapter 2 learnings are the following:\n",
      "I learned the Chapter 2 lessons of the Data Structures about the two types of data type.\n",
      "First is a Built-In Data Type, this is a data type which a language has built-in support \n",
      "such as:\n",
      " Integers or Numbers, example: 7,8,9 \n",
      "\n",
      "Boolean like true and false, example: if you are going to determine that data that its either true or false \n",
      "\n",
      "Floating or Decimals Numbers, example: 6.89282 \n",
      "\n",
      "and characters and strings, example: Philippines\n",
      "\n",
      "Second is a Derived Data Type, this is a data type in which it can be implemented independent\n",
      "such as List, Array, Stack, Queue. In every programming, there is always an basic operations that can help you\n",
      "to implement it depends on the frequency of the operations that it needs to be performed on the data structure\n",
      "First we have traversing, means visiting or touching the elements of the structure. Second, we have searching, means to search\n",
      "Third, we have insertion, means to insert. Fourth, we have deletion, to delete. Fifth, we have sorting, means to sort\n",
      "Sixth we have merging, means to merge. And dont forget the last one thats its updating, means to update.\n",
      "I learned also that the basic operations have a best role.\n"
     ]
    }
   ],
   "source": [
    "print(\"Discuss your learnings on Chapter 2  time-frame 5:00 - 9:00. Minimum of 200 characters\")\n",
    "print (\"Chapter 2 learnings are the following:\")\n",
    "\n",
    "print(\"I learned the Chapter 2 lessons of the Data Structures about the two types of data type.\")\n",
    "print(\"First is a Built-In Data Type, this is a data type which a language has built-in support \")\n",
    "print(\"such as:\\n Integers or Numbers, example: 7,8,9 \\n\\nBoolean like true and false, example: if you are going to determine that data that its either true or false \\n\\nFloating or Decimals Numbers, example: 6.89282 \\n\\nand characters and strings, example: Philippines\")\n",
    "print(\"\\nSecond is a Derived Data Type, this is a data type in which it can be implemented independent\")\n",
    "print(\"such as List, Array, Stack, Queue. In every programming, there is always an basic operations that can help you\")\n",
    "print(\"to implement it depends on the frequency of the operations that it needs to be performed on the data structure\")\n",
    "print(\"First we have traversing, means visiting or touching the elements of the structure. Second, we have searching, means to search\")\n",
    "print(\"Third, we have insertion, means to insert. Fourth, we have deletion, to delete. Fifth, we have sorting, means to sort\")\n",
    "print(\"Sixth we have merging, means to merge. And dont forget the last one thats its updating, means to update.\")\n",
    "print(\"I learned also that the basic operations have a best role.\")\n"
   ]
  },
  {
   "cell_type": "code",
   "execution_count": 55,
   "id": "outdoor-private",
   "metadata": {},
   "outputs": [
    {
     "name": "stdout",
     "output_type": "stream",
     "text": [
      "Discuss your learnings on Chapter 3  time-frame 3:00 - 18:00. Minimum of 200 characters\n",
      "Chapter 3 learnings are the following:\n",
      "Based of what I learn from the programming or in the data structure subject, I learned something about the Array. \n",
      "For me, Array is like a zip file that store values all in one place. That can save you time from executing values\n",
      "In short, it consisting of a collection of elements each identified at least one array of index.\n",
      "Also I learned about the Array Representaion about the parts of an array. There is a type, name, size, elements, and index.\n",
      "Elements means to store some values depends on the size. Index means the location of an item. Just like I saw from the picture\n",
      "on the discussion, that the index can be countable and determine the location of the numbers. Example, if we are going to\n",
      "declare the index, print index 3, arrayname3, it will show the output of the program and there is a number you wanted to show\n",
      "Of course, there is a basic operations about the array,are used to define the type of value, there is a capital and small b, small letter c, \n",
      "capital and small i, small f and small d.\n",
      "Array is created in Python by importing array to the python program. \n"
     ]
    }
   ],
   "source": [
    "print(\"Discuss your learnings on Chapter 3  time-frame 3:00 - 18:00. Minimum of 200 characters\")\n",
    "print (\"Chapter 3 learnings are the following:\")\n",
    "\n",
    "print(\"Based of what I learn from the programming or in the data structure subject, I learned something about the Array. \")\n",
    "print(\"For me, Array is like a zip file that store values all in one place. That can save you time from executing values\")\n",
    "print(\"In short, it consisting of a collection of elements each identified at least one array of index.\")\n",
    "print(\"Also I learned about the Array Representaion about the parts of an array. There is a type, name, size, elements, and index.\")\n",
    "print(\"Elements means to store some values depends on the size. Index means the location of an item. Just like I saw from the picture\")\n",
    "print(\"on the discussion, that the index can be countable and determine the location of the numbers. Example, if we are going to\")\n",
    "print(\"declare the index, print index 3, arrayname3, it will show the output of the program and there is a number you wanted to show\")\n",
    "print(\"Of course, there is a basic operations about the array,are used to define the type of value, there is a capital and small b, small letter c, \\ncapital and small i, small f and small d.\")\n",
    "print(\"Array is created in Python by importing array to the python program. \")"
   ]
  },
  {
   "cell_type": "code",
   "execution_count": 58,
   "id": "ranking-david",
   "metadata": {},
   "outputs": [
    {
     "name": "stdout",
     "output_type": "stream",
     "text": [
      "7.0\n",
      "14.0\n",
      "21.0\n",
      "745.0\n",
      "28.0\n",
      "654.0\n",
      "49.0\n",
      "56.0\n"
     ]
    }
   ],
   "source": [
    "from array import *\n",
    "arrayName = array('f', [7,14,21,28,35,42,49,56])\n",
    "arrayName.insert(3,745)\n",
    "arrayName.remove(42)\n",
    "arrayName[5] = 654\n",
    "for x in arrayName:\n",
    "    print(x)\n",
    "    "
   ]
  },
  {
   "cell_type": "code",
   "execution_count": null,
   "id": "limiting-shift",
   "metadata": {},
   "outputs": [],
   "source": []
  }
 ],
 "metadata": {
  "kernelspec": {
   "display_name": "Python 3",
   "language": "python",
   "name": "python3"
  },
  "language_info": {
   "codemirror_mode": {
    "name": "ipython",
    "version": 3
   },
   "file_extension": ".py",
   "mimetype": "text/x-python",
   "name": "python",
   "nbconvert_exporter": "python",
   "pygments_lexer": "ipython3",
   "version": "3.9.2"
  }
 },
 "nbformat": 4,
 "nbformat_minor": 5
}
